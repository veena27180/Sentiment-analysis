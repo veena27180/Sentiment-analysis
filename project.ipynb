{
  "nbformat": 4,
  "nbformat_minor": 0,
  "metadata": {
    "colab": {
      "provenance": [],
      "authorship_tag": "ABX9TyPHPcX+7BUfF4obUv8UFlAc",
      "include_colab_link": true
    },
    "kernelspec": {
      "name": "python3",
      "display_name": "Python 3"
    },
    "language_info": {
      "name": "python"
    }
  },
  "cells": [
    {
      "cell_type": "markdown",
      "metadata": {
        "id": "view-in-github",
        "colab_type": "text"
      },
      "source": [
        "<a href=\"https://colab.research.google.com/github/veena27180/Sentiment-analysis/blob/main/project.ipynb\" target=\"_parent\"><img src=\"https://colab.research.google.com/assets/colab-badge.svg\" alt=\"Open In Colab\"/></a>"
      ]
    },
    {
      "cell_type": "code",
      "source": [
        "import nltk\n",
        "import random\n",
        "from nltk.corpus import movie_reviews\n",
        "from nltk.classify import NaiveBayesClassifier\n",
        "from nltk.classify.util import accuracy\n"
      ],
      "metadata": {
        "id": "fLu1gp3JSp_k"
      },
      "execution_count": null,
      "outputs": []
    },
    {
      "cell_type": "code",
      "source": [
        "nltk.download('movie_reviews')\n",
        "\n",
        "documents = [(list(movie_reviews.words(fileid)), category)\n",
        "             for category in movie_reviews.categories()\n",
        "             for fileid in movie_reviews.fileids(category)]\n",
        "\n",
        "random.shuffle(documents)\n"
      ],
      "metadata": {
        "colab": {
          "base_uri": "https://localhost:8080/"
        },
        "id": "FPhnpyDSS2W2",
        "outputId": "f987dca6-90a5-43f9-a82e-a084410f56de"
      },
      "execution_count": null,
      "outputs": [
        {
          "output_type": "stream",
          "name": "stderr",
          "text": [
            "[nltk_data] Downloading package movie_reviews to /root/nltk_data...\n",
            "[nltk_data]   Package movie_reviews is already up-to-date!\n"
          ]
        }
      ]
    },
    {
      "cell_type": "code",
      "source": [
        "all_words = nltk.FreqDist(w.lower() for w in movie_reviews.words())\n",
        "word_features = list(all_words)[:2000]\n",
        "\n",
        "def document_features(document):\n",
        "    words = set(document)\n",
        "    features = {}\n",
        "    for word in word_features:\n",
        "        features[f'contains({word})'] = (word in words)\n",
        "    return features\n"
      ],
      "metadata": {
        "id": "B4uONFPtS6mr"
      },
      "execution_count": null,
      "outputs": []
    },
    {
      "cell_type": "code",
      "source": [
        "featuresets = [(document_features(d), c) for (d, c) in documents]\n",
        "train_set, test_set = featuresets[:1500], featuresets[1500:]\n",
        "\n",
        "classifier = NaiveBayesClassifier.train(train_set)\n"
      ],
      "metadata": {
        "id": "3AW5sjKZS_Dm"
      },
      "execution_count": null,
      "outputs": []
    },
    {
      "cell_type": "code",
      "source": [
        "print(\"Accuracy:\", accuracy(classifier, test_set))\n",
        "classifier.show_most_informative_features(10)\n"
      ],
      "metadata": {
        "id": "eZbfchbnTCsW",
        "outputId": "c29e6e67-14bd-45dc-a0e9-ca30879bc6d3",
        "colab": {
          "base_uri": "https://localhost:8080/"
        }
      },
      "execution_count": null,
      "outputs": [
        {
          "output_type": "stream",
          "name": "stdout",
          "text": [
            "Accuracy: 0.81\n",
            "Most Informative Features\n",
            "        contains(seagal) = True              neg : pos    =     10.2 : 1.0\n",
            "         contains(mulan) = True              pos : neg    =      7.8 : 1.0\n",
            "   contains(outstanding) = True              pos : neg    =      7.7 : 1.0\n",
            "        contains(wasted) = True              neg : pos    =      6.7 : 1.0\n",
            "          contains(lame) = True              neg : pos    =      6.1 : 1.0\n",
            "        contains(poorly) = True              neg : pos    =      5.6 : 1.0\n",
            "         contains(damon) = True              pos : neg    =      5.5 : 1.0\n",
            "         contains(snake) = True              neg : pos    =      5.2 : 1.0\n",
            "   contains(wonderfully) = True              pos : neg    =      4.7 : 1.0\n",
            "    contains(ridiculous) = True              neg : pos    =      4.6 : 1.0\n"
          ]
        }
      ]
    }
  ]
}